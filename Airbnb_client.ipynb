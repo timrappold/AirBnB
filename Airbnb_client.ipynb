{
 "cells": [
  {
   "cell_type": "code",
   "execution_count": 2,
   "metadata": {},
   "outputs": [],
   "source": [
    "% matplotlib inline\n",
    "\n",
    "import importlib\n",
    "import pickle\n",
    "from time import time\n",
    "\n",
    "import pandas as pd\n",
    "import numpy as np\n",
    "import matplotlib.pyplot as plt\n",
    "import seaborn\n",
    "from scipy.stats import randint as sp_randint\n",
    "\n",
    "import imblearn.over_sampling\n",
    "from sklearn.linear_model import LogisticRegression\n",
    "from sklearn.ensemble import RandomForestClassifier, ExtraTreesClassifier, GradientBoostingClassifier\n",
    "from sklearn.svm import SVC\n",
    "\n",
    "\n",
    "from sklearn.preprocessing import StandardScaler, LabelEncoder\n",
    "from sklearn.pipeline import Pipeline\n",
    "from sklearn.metrics import (accuracy_score, precision_score, recall_score, f1_score, classification_report,\n",
    "                             roc_curve, roc_auc_score, log_loss)\n",
    "from sklearn.model_selection import RandomizedSearchCV\n",
    "from sklearn.multiclass import OneVsRestClassifier\n",
    "\n",
    "import airbnb\n",
    "importlib.reload(airbnb)\n",
    "\n",
    "seaborn.set_context(context='poster')\n",
    "FIGSIZE = (10,7)"
   ]
  },
  {
   "cell_type": "code",
   "execution_count": 3,
   "metadata": {},
   "outputs": [
    {
     "name": "stderr",
     "output_type": "stream",
     "text": [
      "INFO:root: Begin extract\n",
      "INFO:root: Begin transform\n",
      "/Users/timcodes/anaconda3/lib/python3.6/site-packages/pandas/core/indexing.py:537: SettingWithCopyWarning: \n",
      "A value is trying to be set on a copy of a slice from a DataFrame.\n",
      "Try using .loc[row_indexer,col_indexer] = value instead\n",
      "\n",
      "See the caveats in the documentation: http://pandas.pydata.org/pandas-docs/stable/indexing.html#indexing-view-versus-copy\n",
      "  self.obj[item] = s\n",
      "INFO:root: Train Validation Holdout Split\n",
      "INFO:root: Return: \n"
     ]
    }
   ],
   "source": [
    "training_set, validation_set, holdout_set, agb, sessions = airbnb.main()"
   ]
  },
  {
   "cell_type": "code",
   "execution_count": 4,
   "metadata": {},
   "outputs": [
    {
     "name": "stderr",
     "output_type": "stream",
     "text": [
      "DEBUG:matplotlib.font_manager:findfont: Matching :family=sans-serif:style=normal:variant=normal:weight=normal:stretch=normal:size=16.0 to DejaVu Sans ('/Users/timcodes/anaconda3/lib/python3.6/site-packages/matplotlib/mpl-data/fonts/ttf/DejaVuSans.ttf') with score of 0.050000\n",
      "DEBUG:matplotlib.font_manager:findfont: Matching :family=sans-serif:style=normal:variant=normal:weight=normal:stretch=normal:size=17.6 to DejaVu Sans ('/Users/timcodes/anaconda3/lib/python3.6/site-packages/matplotlib/mpl-data/fonts/ttf/DejaVuSans.ttf') with score of 0.050000\n",
      "DEBUG:matplotlib.font_manager:findfont: Matching :family=sans-serif:style=normal:variant=normal:weight=normal:stretch=normal:size=19.200000000000003 to DejaVu Sans ('/Users/timcodes/anaconda3/lib/python3.6/site-packages/matplotlib/mpl-data/fonts/ttf/DejaVuSans.ttf') with score of 0.050000\n"
     ]
    },
    {
     "data": {
      "image/png": "[encoded data removed]",
      "text/plain": [
       "<Figure size 1080x360 with 1 Axes>"
      ]
     },
     "metadata": {},
     "output_type": "display_data"
    }
   ],
   "source": [
    "plt.figure(figsize=[15,5])\n",
    "training_set['country_destination'].value_counts().plot(kind='bar')\n",
    "plt.ylabel('Number of travelers ')\n",
    "plt.xlabel('Countries')\n",
    "plt.title('Countries visited');"
   ]
  },
  {
   "cell_type": "markdown",
   "metadata": {},
   "source": [
    "## Schema for testing:\n",
    "Basic elements:\n",
    "- **Pipe Transforms**: `X, y = pipe_transform(_data-_ set)` to get `X`, `y` for `train`, `val`, `holdout` sets. The pipe transform downselects target and features.\n",
    "- **SMOTE**: `x_train_smote`, `y_train_smote` for `training set` only.\n",
    "- **Classifier Dictionary**: Generic store for classifier objects, to be used for various **pipe transforms** Create a dictionary with the following fields\n",
    "    - clf: `LogisticRegression`, `RandomForest`, `GradientBoostedTree`, `XGBoost`, `SVC`\n",
    "    - param_distributions=param_dist,\n",
    "    - n_iter=n_iter_search, \n",
    "    - scoring=scoring, \n",
    "    - refit='AUC'\n",
    "- **Model Dictionary**: this dictionary contains, for each successul/relevant trained model:\n",
    "    - \n"
   ]
  },
  {
   "cell_type": "markdown",
   "metadata": {},
   "source": [
    "## Define pipeline-transform functions:"
   ]
  },
  {
   "cell_type": "code",
   "execution_count": 15,
   "metadata": {},
   "outputs": [],
   "source": [
    "def pipe_france_vs_usa(df):\n",
    "    \"\"\" Accepts test_users training or validation or test df and provides the pipeline \n",
    "    \"\"\"\n",
    "    df = df[(df['country_destination']=='US')|(df['country_destination']=='FR')]\n",
    "    y = airbnb.binarize_y(df['country_destination'], binary_country='FR')\n",
    "    X = df.drop('country_destination', axis=1)\n",
    "    X = airbnb.get_df_with_dummies(X)\n",
    "    \n",
    "    return X, y\n",
    "\n",
    "\n",
    "def pipe_france_vs_gb(df):\n",
    "    \"\"\" Accepts test_users training or validation or test df and provides the pipeline \n",
    "    \"\"\"\n",
    "    df = df[(df['country_destination']=='GB')|(df['country_destination']=='FR')]\n",
    "    y = airbnb.binarize_y(df['country_destination'], binary_country='FR')\n",
    "    X = df.drop('country_destination', axis=1)\n",
    "    X = airbnb.get_df_with_dummies(X)\n",
    "    \n",
    "    return X, y\n",
    "\n",
    "\n",
    "def pipe_usa_vs_not(df):\n",
    "    \"\"\" Accepts test_users training or validation or test df and provides the pipeline for the binary \n",
    "    \"\"\"\n",
    "    y = airbnb.binarize_y(df['country_destination'], binary_country='US')\n",
    "    X = df.drop('country_destination', axis=1)\n",
    "    X = airbnb.get_df_with_dummies(X)\n",
    "    \n",
    "    return X, y\n",
    "\n",
    "\n",
    "def pipe_multiclass(df):\n",
    "    \"\"\" Accepts test_users training or validation or test df and provides the pipeline \n",
    "    \"\"\"\n",
    "    # df = df[(df['country_destination']=='US')|(df['country_destination']=='FR')]\n",
    "    # y = airbnb.binarize_y(df['country_destination'], binary_country='US')\n",
    "    le =  LabelEncoder()\n",
    "    y = le.fit_transform(df['country_destination'])\n",
    "    X = df.drop('country_destination', axis=1)\n",
    "    X = airbnb.get_df_with_dummies(X)\n",
    "    \n",
    "    return X, y\n",
    "\n",
    "\n",
    "pipe_dict = {'fr_usa': pipe_france_vs_usa,\n",
    "             'usa_not': pipe_usa_vs_not,\n",
    "             'multiclass':pipe_multiclass,\n",
    "            }\n",
    "\n",
    "\n",
    "# PLOTTING:\n",
    "def make_ROC(estimator, X_train, y_train, X_val):\n",
    "    y_score = estimator.fit(X_train, y_train).predict_proba(X_val)\n",
    "    fpr, tpr, _ = roc_curve(y_val, y_score[:,1])\n",
    "    \n",
    "    plt.figure(figsize=FIGSIZE)\n",
    "    plt.plot(fpr, tpr)\n",
    "    plt.plot(fpr, fpr, 'r--')\n",
    "    plt.title('ROC AUC = {:1.3}'.format(roc_auc_score(y_val, y_score[:,1])))\n",
    "    plt.ylabel('True positive rate')\n",
    "    plt.xlabel('False positive rate');"
   ]
  },
  {
   "cell_type": "code",
   "execution_count": 6,
   "metadata": {},
   "outputs": [
    {
     "name": "stdout",
     "output_type": "stream",
     "text": [
      "\n",
      "\n",
      "Model =  fr_usa\n",
      "Pipe Transform:\n",
      "Logistic Regression, Multiclass, with Randomized Search and CV ...\n",
      "-------------------------------------------------------------------------------\n",
      "Best Logistic Regression Log Loss (fr_usa) =  0.6791296022570559\n",
      "Random Forest with Randomized Search and CV ...\n",
      "-------------------------------------------------------------------------------\n",
      "Best Random Forest Log Loss (fr_usa) =  0.653110748796079\n",
      "\n",
      "\n",
      "Model =  usa_not\n",
      "Pipe Transform:\n",
      "Logistic Regression, Multiclass, with Randomized Search and CV ...\n",
      "-------------------------------------------------------------------------------\n",
      "Best Logistic Regression Log Loss (usa_not) =  0.692130601060683\n",
      "Random Forest with Randomized Search and CV ...\n",
      "-------------------------------------------------------------------------------\n",
      "Best Random Forest Log Loss (usa_not) =  0.6885879291422097\n",
      "\n",
      "\n",
      "Model =  multiclass\n",
      "Pipe Transform:\n",
      "Logistic Regression, Multiclass, with Randomized Search and CV ...\n"
     ]
    },
    {
     "name": "stderr",
     "output_type": "stream",
     "text": [
      "/Users/timcodes/anaconda3/lib/python3.6/site-packages/sklearn/linear_model/base.py:340: RuntimeWarning: overflow encountered in exp\n",
      "  np.exp(prob, prob)\n",
      "/Users/timcodes/anaconda3/lib/python3.6/site-packages/sklearn/linear_model/base.py:340: RuntimeWarning: overflow encountered in exp\n",
      "  np.exp(prob, prob)\n",
      "/Users/timcodes/anaconda3/lib/python3.6/site-packages/sklearn/linear_model/base.py:340: RuntimeWarning: overflow encountered in exp\n",
      "  np.exp(prob, prob)\n"
     ]
    },
    {
     "name": "stdout",
     "output_type": "stream",
     "text": [
      "-------------------------------------------------------------------------------\n",
      "Best Logistic Regression Log Loss (multiclass) =  2.4076438644849576\n",
      "Random Forest with Randomized Search and CV ...\n",
      "-------------------------------------------------------------------------------\n",
      "Best Random Forest Log Loss (multiclass) =  1.5409281649950899\n"
     ]
    }
   ],
   "source": [
    "smote = imblearn.over_sampling.SMOTE(ratio='auto', random_state = 42)\n",
    "model_dict = {}\n",
    "\n",
    "for key, fun in pipe_dict.items():\n",
    "    print('\\n')\n",
    "    print('Model = ', key)\n",
    "    \n",
    "    # train and validation set transformations:\n",
    "    print('Pipe Transform:')\n",
    "    X_val, y_val = fun(validation_set)\n",
    "    X_train, y_train = fun(training_set)\n",
    "    X_tr_smote, y_tr_smote = smote.fit_sample(X_train, y_train) \n",
    "    \n",
    "    print('Logistic Regression, Multiclass, with Randomized Search and CV ...')\n",
    "    lrm = OneVsRestClassifier(LogisticRegression())\n",
    "\n",
    "    parameter_distributions = {'C': np.logspace(-3,3),\n",
    "                              'penalty': ['l1', 'l2']}\n",
    "\n",
    "    random_logit_mult = RandomizedSearchCV(lrm, \n",
    "                                           param_distributions={'estimator__C': np.logspace(-3,3), \n",
    "                                                                'estimator__penalty': ['l1', 'l2']},\n",
    "                                           n_iter=10, \n",
    "                                           scoring={'Log Loss':'neg_log_loss'}, \n",
    "                                           refit='Log Loss')\n",
    "\n",
    "    random_logit_mult.fit(X_tr_smote, y_tr_smote)                      \n",
    "    y_pred = random_logit_mult.predict_proba(X_val)\n",
    "    LR_log_loss = log_loss(y_val, y_pred)\n",
    "    print('-'*79)\n",
    "    print('Best Logistic Regression Log Loss (' + key + ') = ', LR_log_loss)\n",
    "    \n",
    "\n",
    "    print('Random Forest with Randomized Search and CV ...')\n",
    "    randomc_rfc = RandomizedSearchCV(RandomForestClassifier(), \n",
    "                                     param_distributions={\"n_estimators\": [9, 20, 50],\n",
    "                                                          \"max_depth\": [3, None],\n",
    "                                                          \"max_features\": sp_randint(1, 11),\n",
    "                                                          \"min_samples_split\": sp_randint(2, 11),\n",
    "                                                          \"min_samples_leaf\": sp_randint(1, 11),\n",
    "                                                          \"bootstrap\": [True, False],\n",
    "                                                          \"criterion\": [\"gini\", \"entropy\"]},\n",
    "                                     n_iter=10, \n",
    "                                     scoring={'Log Loss':'neg_log_loss'}, \n",
    "                                     refit='Log Loss',\n",
    "                                     )\n",
    "\n",
    "    randomc_rfc.fit(X_tr_smote, y_tr_smote)                      \n",
    "    y_pred = randomc_rfc.predict_proba(X_val)\n",
    "    RF_log_loss = log_loss(y_val, y_pred)\n",
    "    print('-'*79)\n",
    "    print('Best Random Forest Log Loss (' + key + ') = ', RF_log_loss)"
   ]
  },
  {
   "cell_type": "code",
   "execution_count": 9,
   "metadata": {},
   "outputs": [
    {
     "name": "stdout",
     "output_type": "stream",
     "text": [
      "             precision    recall  f1-score   support\n",
      "\n",
      "          0       0.03      0.01      0.02        87\n",
      "          1       0.02      0.01      0.01       162\n",
      "          2       0.02      0.01      0.01       131\n",
      "          3       0.04      0.02      0.02       279\n",
      "          4       0.09      0.04      0.05       584\n",
      "          5       0.04      0.01      0.02       313\n",
      "          6       0.02      0.01      0.01       344\n",
      "          7       0.00      0.00      0.00       104\n",
      "          8       0.00      0.00      0.00        28\n",
      "          9       0.71      0.90      0.79      7661\n",
      "         10       0.12      0.04      0.06      1209\n",
      "\n",
      "avg / total       0.52      0.64      0.57     10902\n",
      "\n"
     ]
    }
   ],
   "source": [
    "y_pred = randomc_rfc.predict(X_val)\n",
    "cl_report = classification_report(y_val, y_pred)\n",
    "print(cl_report)"
   ]
  }
 ],
 "metadata": {
  "kernelspec": {
   "display_name": "Python 3",
   "language": "python",
   "name": "python3"
  },
  "language_info": {
   "codemirror_mode": {
    "name": "ipython",
    "version": 3
   },
   "file_extension": ".py",
   "mimetype": "text/x-python",
   "name": "python",
   "nbconvert_exporter": "python",
   "pygments_lexer": "ipython3",
   "version": "3.6.4"
  }
 },
 "nbformat": 4,
 "nbformat_minor": 2
}
